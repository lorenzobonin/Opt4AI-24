{
 "cells": [
  {
   "cell_type": "markdown",
   "metadata": {},
   "source": [
    "# Linear Genetic Programming Based Approach for Robotic Controllers\n",
    "In this lab session, we will leverage Linear Genetic Programming (LGP) to automatically design the controller for a mobile robot. Starting from a certain initial position (S), the robot must be able to navigate inside a maze until it reaches its home base (G). The maze consists of empty cells in which the robot can navigate freely and wall cells where the robot cannot pass. A ```Maze``` object also contains information about the optimal path to the goal, which can be used to evaluate the robot's navigation. "
   ]
  },
  {
   "cell_type": "code",
   "execution_count": 1,
   "metadata": {},
   "outputs": [],
   "source": [
    "import enum\n",
    "import math\n",
    "import random\n",
    "\n",
    "from robot_maze import Maze, Robot"
   ]
  },
  {
   "cell_type": "code",
   "execution_count": 2,
   "metadata": {},
   "outputs": [
    {
     "name": "stdout",
     "output_type": "stream",
     "text": [
      "            #     #     #  \n",
      "#     #  #  #     S     #  \n",
      "#        #  .  .  .     #  \n",
      ".  .  .  #  .  #  #     #  \n",
      ".  #  .  .  .  #  #        \n",
      ".  .  #  #  #  #  #  #  #  \n",
      "#  .     #  .  .  .  .  .  \n",
      "   .  #  #  .  #     #  .  \n",
      "#  .  .  .  .  #  #  #  G  \n",
      "\n"
     ]
    }
   ],
   "source": [
    "cellcodes = enum.Enum('cellcodes', 'EMPTY WALL START ROUTE GOAL')\n",
    "\n",
    "maze_list = [\n",
    "        [cellcodes.EMPTY, cellcodes.EMPTY, cellcodes.EMPTY, cellcodes.EMPTY, cellcodes.WALL, cellcodes.EMPTY, cellcodes.WALL, cellcodes.EMPTY, cellcodes.WALL],\n",
    "        [cellcodes.WALL, cellcodes.EMPTY, cellcodes.WALL, cellcodes.WALL, cellcodes.WALL, cellcodes.EMPTY, cellcodes.START, cellcodes.EMPTY, cellcodes.WALL],\n",
    "        [cellcodes.WALL, cellcodes.EMPTY, cellcodes.EMPTY, cellcodes.WALL, cellcodes.ROUTE, cellcodes.ROUTE, cellcodes.ROUTE, cellcodes.EMPTY, cellcodes.WALL],\n",
    "        [cellcodes.ROUTE, cellcodes.ROUTE, cellcodes.ROUTE, cellcodes.WALL, cellcodes.ROUTE, cellcodes.WALL, cellcodes.WALL, cellcodes.EMPTY, cellcodes.WALL],\n",
    "        [cellcodes.ROUTE, cellcodes.WALL, cellcodes.ROUTE, cellcodes.ROUTE, cellcodes.ROUTE, cellcodes.WALL, cellcodes.WALL, cellcodes.EMPTY, cellcodes.EMPTY],\n",
    "        [cellcodes.ROUTE, cellcodes.ROUTE, cellcodes.WALL, cellcodes.WALL, cellcodes.WALL, cellcodes.WALL, cellcodes.WALL, cellcodes.WALL, cellcodes.WALL],\n",
    "        [cellcodes.WALL, cellcodes.ROUTE, cellcodes.EMPTY, cellcodes.WALL, cellcodes.ROUTE, cellcodes.ROUTE, cellcodes.ROUTE, cellcodes.ROUTE, cellcodes.ROUTE],\n",
    "        [cellcodes.EMPTY, cellcodes.ROUTE, cellcodes.WALL, cellcodes.WALL, cellcodes.ROUTE, cellcodes.WALL, cellcodes.EMPTY, cellcodes.WALL, cellcodes.ROUTE],\n",
    "        [cellcodes.WALL, cellcodes.ROUTE, cellcodes.ROUTE, cellcodes.ROUTE, cellcodes.ROUTE, cellcodes.WALL, cellcodes.WALL, cellcodes.WALL, cellcodes.GOAL],\n",
    "    ]\n",
    "\n",
    "maze = Maze(maze_list, cellcodes)\n",
    "\n",
    "print(maze)"
   ]
  },
  {
   "cell_type": "markdown",
   "metadata": {},
   "source": [
    "The robot can move in 3 possible ways:\n",
    "\n",
    "- Move forward;\n",
    "- Turn left;\n",
    "- Turn right;\n",
    "\n",
    "It can perceive the environment through 6 sensors that, when activated (value 1), indicate the presence of a wall in the corresponding position.\n",
    "\n",
    "![Robot's sensors](../img/sensors.png \"Robot's sensors\")\n",
    "\n",
    "Our controller must map the boolean values coming from the sensors into an action for the robot to take.\n",
    "\n",
    "Now it's time to code! Define a set of operators which can be included in the program that controls the robot actions and write the code to generate a random program."
   ]
  },
  {
   "cell_type": "code",
   "execution_count": 3,
   "metadata": {},
   "outputs": [],
   "source": [
    "movecodes = enum.Enum('movecodes', 'FORWARD LEFT RIGHT')\n",
    "opcodes = enum.Enum('opcodes', 'NOT AND OR IF NOP')"
   ]
  },
  {
   "cell_type": "code",
   "execution_count": 4,
   "metadata": {},
   "outputs": [],
   "source": [
    "def random_program(n, move_p=0.3):\n",
    "  prg = []\n",
    "  moves = list(movecodes)\n",
    "  func = list(opcodes)\n",
    "  for _ in range(0, n):\n",
    "    if random.random() < move_p:\n",
    "      op = random.choice(moves)\n",
    "    else:\n",
    "      op = random.choice(func)\n",
    "    prg.append(op)\n",
    "  return prg"
   ]
  },
  {
   "cell_type": "code",
   "execution_count": 5,
   "metadata": {},
   "outputs": [],
   "source": [
    "rp = random_program(10)"
   ]
  },
  {
   "cell_type": "markdown",
   "metadata": {},
   "source": [
    "Complete the ```Robot``` class into the ```utilities/robot_maze.py``` file with a proper ```eval``` function."
   ]
  },
  {
   "cell_type": "code",
   "execution_count": 6,
   "metadata": {},
   "outputs": [],
   "source": [
    "r = Robot(rp, maze, maxMoves=70, movecodes=movecodes, opcodes=opcodes)"
   ]
  },
  {
   "cell_type": "markdown",
   "metadata": {},
   "source": [
    "Define a fitness function for our navigation task. Hint: you can exploit the ```getRoute``` method of the ```Robot``` class and the ```scoreRoute``` method of the ```Maze``` class to get an estimate of the \"correct steps\" taken by the robot."
   ]
  },
  {
   "cell_type": "code",
   "execution_count": 7,
   "metadata": {},
   "outputs": [],
   "source": [
    "def fit(prg):\n",
    "  try:\n",
    "    robot = Robot(prg, maze, 70, movecodes, opcodes)\n",
    "    robot.run()\n",
    "    fitness = maze.scoreRoute(robot.getRoute()) - robot.n_moves\n",
    "    return fitness\n",
    "  except Exception:\n",
    "    return -math.inf"
   ]
  },
  {
   "cell_type": "markdown",
   "metadata": {},
   "source": [
    "Implement a function to perform tournament selection"
   ]
  },
  {
   "cell_type": "code",
   "execution_count": 8,
   "metadata": {},
   "outputs": [],
   "source": [
    "def tournament_selection(fit, pop, t_size=4):\n",
    "  tournament = random.choices(pop, k=t_size)\n",
    "  return max(tournament, key=fit)"
   ]
  },
  {
   "cell_type": "markdown",
   "metadata": {},
   "source": [
    "Implement functions for crossover and mutation."
   ]
  },
  {
   "cell_type": "code",
   "execution_count": 9,
   "metadata": {},
   "outputs": [],
   "source": [
    "def crossover(x, y):\n",
    "  k1 = random.randint(0, len(x)-1)\n",
    "  k2 = random.randint(k1, len(x)-1)\n",
    "  h1 = random.randint(0, len(y)-1)\n",
    "  h2 = random.randint(h1, len(y)-1)\n",
    "  of1 = x[0:k1] + y[h1:h2] + x[k2:]\n",
    "  of2 = y[0:h1] + x[k1:k2] + y[h2:]\n",
    "  return of1, of2"
   ]
  },
  {
   "cell_type": "code",
   "execution_count": 10,
   "metadata": {},
   "outputs": [],
   "source": [
    "def mutation(x, p_m, move_p=0.3):\n",
    "  def change(b):\n",
    "    moves = list(movecodes)\n",
    "    func = list(opcodes)\n",
    "    if random.random() < p_m:\n",
    "      if random.random() < move_p:\n",
    "        op = random.choice(moves)\n",
    "      else:\n",
    "        op = random.choice(func)\n",
    "      return op\n",
    "    else:\n",
    "      return b\n",
    "  return [change(b) for b in x]"
   ]
  },
  {
   "cell_type": "markdown",
   "metadata": {},
   "source": [
    "Implement a ```linear_GP``` function using the functions defined above."
   ]
  },
  {
   "cell_type": "code",
   "execution_count": 11,
   "metadata": {},
   "outputs": [],
   "source": [
    "def linear_GP(fit, pop_size, n_iter = 50):\n",
    "  p_m = 0.1\n",
    "  pop = [random_program(20) for _ in range(0, pop_size)]\n",
    "  best = []\n",
    "  for i in range(0, n_iter):\n",
    "    selected = [tournament_selection(fit, pop) for _ in range(0, pop_size)]\n",
    "    pairs = zip(selected, selected[1:] + [selected[0]])\n",
    "    offsprings = []\n",
    "    for x, y in pairs:\n",
    "      of1, of2 = crossover(x, y)\n",
    "      offsprings.append(of1)\n",
    "      offsprings.append(of2)\n",
    "    pop = [mutation(x, p_m) for x in offsprings]\n",
    "    candidate_best = max(pop, key=fit)\n",
    "    if fit(candidate_best) > fit(best):\n",
    "      best = candidate_best\n",
    "    # print(f\"Best individual at generation {i}: {best}\")\n",
    "    print(f\"Best fitness at generation {i}: {fit(best)}\")\n",
    "  return best"
   ]
  },
  {
   "cell_type": "code",
   "execution_count": 12,
   "metadata": {},
   "outputs": [
    {
     "name": "stdout",
     "output_type": "stream",
     "text": [
      "Best fitness at generation 0: -67\n",
      "Best fitness at generation 1: -67\n",
      "Best fitness at generation 2: -66\n",
      "Best fitness at generation 3: -65\n",
      "Best fitness at generation 4: -65\n",
      "Best fitness at generation 5: -65\n",
      "Best fitness at generation 6: -65\n",
      "Best fitness at generation 7: -65\n",
      "Best fitness at generation 8: -65\n",
      "Best fitness at generation 9: -65\n",
      "Best fitness at generation 10: -65\n",
      "Best fitness at generation 11: -65\n",
      "Best fitness at generation 12: -65\n",
      "Best fitness at generation 13: -65\n",
      "Best fitness at generation 14: -65\n",
      "Best fitness at generation 15: -65\n",
      "Best fitness at generation 16: -65\n",
      "Best fitness at generation 17: -65\n",
      "Best fitness at generation 18: -65\n",
      "Best fitness at generation 19: -65\n",
      "Best fitness at generation 20: -65\n",
      "Best fitness at generation 21: -65\n",
      "Best fitness at generation 22: -65\n",
      "Best fitness at generation 23: -65\n",
      "Best fitness at generation 24: -17\n",
      "Best fitness at generation 25: -17\n",
      "Best fitness at generation 26: -17\n",
      "Best fitness at generation 27: -17\n",
      "Best fitness at generation 28: -17\n",
      "Best fitness at generation 29: -17\n",
      "Best fitness at generation 30: -17\n",
      "Best fitness at generation 31: -17\n",
      "Best fitness at generation 32: -17\n",
      "Best fitness at generation 33: -17\n",
      "Best fitness at generation 34: -17\n",
      "Best fitness at generation 35: -17\n",
      "Best fitness at generation 36: -17\n",
      "Best fitness at generation 37: -17\n",
      "Best fitness at generation 38: -17\n",
      "Best fitness at generation 39: -17\n",
      "Best fitness at generation 40: -17\n",
      "Best fitness at generation 41: -17\n",
      "Best fitness at generation 42: -17\n",
      "Best fitness at generation 43: -17\n",
      "Best fitness at generation 44: -17\n",
      "Best fitness at generation 45: -17\n",
      "Best fitness at generation 46: -17\n",
      "Best fitness at generation 47: -17\n",
      "Best fitness at generation 48: -17\n",
      "Best fitness at generation 49: -17\n"
     ]
    }
   ],
   "source": [
    "random.seed(0)\n",
    "best = linear_GP(fit, 1000)"
   ]
  },
  {
   "cell_type": "code",
   "execution_count": 13,
   "metadata": {},
   "outputs": [
    {
     "data": {
      "text/plain": [
       "[<opcodes.AND: 2>,\n",
       " <opcodes.IF: 4>,\n",
       " <movecodes.FORWARD: 1>,\n",
       " <opcodes.NOT: 1>,\n",
       " <opcodes.AND: 2>,\n",
       " <opcodes.IF: 4>,\n",
       " <movecodes.LEFT: 2>,\n",
       " <opcodes.IF: 4>,\n",
       " <opcodes.IF: 4>,\n",
       " <opcodes.IF: 4>,\n",
       " <movecodes.RIGHT: 3>,\n",
       " <movecodes.FORWARD: 1>,\n",
       " <opcodes.IF: 4>,\n",
       " <opcodes.OR: 3>,\n",
       " <opcodes.AND: 2>,\n",
       " <opcodes.IF: 4>,\n",
       " <opcodes.NOP: 5>,\n",
       " <opcodes.AND: 2>,\n",
       " <opcodes.AND: 2>,\n",
       " <opcodes.IF: 4>,\n",
       " <movecodes.LEFT: 2>,\n",
       " <opcodes.NOP: 5>,\n",
       " <opcodes.OR: 3>,\n",
       " <opcodes.OR: 3>,\n",
       " <opcodes.IF: 4>,\n",
       " <opcodes.AND: 2>,\n",
       " <opcodes.AND: 2>,\n",
       " <opcodes.IF: 4>,\n",
       " <opcodes.IF: 4>,\n",
       " <movecodes.RIGHT: 3>,\n",
       " <opcodes.NOT: 1>,\n",
       " <movecodes.FORWARD: 1>]"
      ]
     },
     "execution_count": 13,
     "metadata": {},
     "output_type": "execute_result"
    }
   ],
   "source": [
    "best"
   ]
  },
  {
   "cell_type": "code",
   "execution_count": 14,
   "metadata": {},
   "outputs": [
    {
     "name": "stdout",
     "output_type": "stream",
     "text": [
      "[[6, 1], [6, 2], [7, 2], [6, 2], [5, 2], [4, 2], [4, 3], [4, 4], [3, 4], [2, 4], [2, 3], [1, 3], [0, 3], [0, 4], [0, 5], [1, 5], [1, 6], [1, 7], [1, 8], [2, 8], [3, 8], [4, 8], [4, 7], [4, 6], [5, 6], [6, 6], [7, 6], [8, 6], [8, 7], [8, 8]]\n"
     ]
    }
   ],
   "source": [
    "best_robot = Robot(best, maze, 70, movecodes, opcodes)\n",
    "best_robot.run()\n",
    "print(best_robot.getRoute())"
   ]
  },
  {
   "cell_type": "markdown",
   "metadata": {},
   "source": [
    "Are the robot moves consistent with the expected behaviour? (The robot starts with a south heading, hence towards the bottom of the monitor)"
   ]
  },
  {
   "cell_type": "code",
   "execution_count": 15,
   "metadata": {},
   "outputs": [
    {
     "name": "stdout",
     "output_type": "stream",
     "text": [
      "            #     #     #  \n",
      "#     #  #  #     S     #  \n",
      "#        #  .  .  .     #  \n",
      ".  .  .  #  .  #  #     #  \n",
      ".  #  .  .  .  #  #        \n",
      ".  .  #  #  #  #  #  #  #  \n",
      "#  .     #  .  .  .  .  .  \n",
      "   .  #  #  .  #     #  .  \n",
      "#  .  .  .  .  #  #  #  G  \n",
      "\n"
     ]
    },
    {
     "data": {
      "text/plain": [
       "[<movecodes.FORWARD: 1>,\n",
       " <movecodes.LEFT: 2>,\n",
       " <movecodes.FORWARD: 1>,\n",
       " <movecodes.LEFT: 2>,\n",
       " <movecodes.LEFT: 2>,\n",
       " <movecodes.FORWARD: 1>,\n",
       " <movecodes.FORWARD: 1>,\n",
       " <movecodes.FORWARD: 1>,\n",
       " <movecodes.LEFT: 2>,\n",
       " <movecodes.FORWARD: 1>,\n",
       " <movecodes.FORWARD: 1>,\n",
       " <movecodes.RIGHT: 3>,\n",
       " <movecodes.FORWARD: 1>,\n",
       " <movecodes.FORWARD: 1>,\n",
       " <movecodes.RIGHT: 3>,\n",
       " <movecodes.FORWARD: 1>,\n",
       " <movecodes.LEFT: 2>,\n",
       " <movecodes.FORWARD: 1>,\n",
       " <movecodes.FORWARD: 1>,\n",
       " <movecodes.LEFT: 2>,\n",
       " <movecodes.FORWARD: 1>,\n",
       " <movecodes.FORWARD: 1>,\n",
       " <movecodes.LEFT: 2>,\n",
       " <movecodes.FORWARD: 1>,\n",
       " <movecodes.RIGHT: 3>,\n",
       " <movecodes.FORWARD: 1>,\n",
       " <movecodes.FORWARD: 1>,\n",
       " <movecodes.FORWARD: 1>,\n",
       " <movecodes.LEFT: 2>,\n",
       " <movecodes.FORWARD: 1>,\n",
       " <movecodes.FORWARD: 1>,\n",
       " <movecodes.FORWARD: 1>,\n",
       " <movecodes.LEFT: 2>,\n",
       " <movecodes.FORWARD: 1>,\n",
       " <movecodes.FORWARD: 1>,\n",
       " <movecodes.RIGHT: 3>,\n",
       " <movecodes.FORWARD: 1>,\n",
       " <movecodes.FORWARD: 1>,\n",
       " <movecodes.FORWARD: 1>,\n",
       " <movecodes.FORWARD: 1>,\n",
       " <movecodes.RIGHT: 3>,\n",
       " <movecodes.FORWARD: 1>,\n",
       " <movecodes.FORWARD: 1>]"
      ]
     },
     "execution_count": 15,
     "metadata": {},
     "output_type": "execute_result"
    }
   ],
   "source": [
    "print(maze)\n",
    "best_robot.moves"
   ]
  }
 ],
 "metadata": {
  "kernelspec": {
   "display_name": "optai",
   "language": "python",
   "name": "python3"
  },
  "language_info": {
   "codemirror_mode": {
    "name": "ipython",
    "version": 3
   },
   "file_extension": ".py",
   "mimetype": "text/x-python",
   "name": "python",
   "nbconvert_exporter": "python",
   "pygments_lexer": "ipython3",
   "version": "3.11.6"
  }
 },
 "nbformat": 4,
 "nbformat_minor": 2
}
