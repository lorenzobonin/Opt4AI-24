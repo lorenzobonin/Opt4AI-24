{
 "cells": [
  {
   "cell_type": "markdown",
   "metadata": {},
   "source": [
    "# Solving the Travelling Salesman Problem using Genetic Algorithm\n",
    "\n",
    "The *Traveling Salesman Problem* (TSP) is a classic and extremely important optimisation problem in the field of operations research and computer science. It can be stated as follows: *Given a set of cities and the distances between each pair of cities, the goal is to find the shortest possible route that visits each city exactly once and returns back to the starting city.* The TSP is known to be a NP-hard problem, hence it doesn't have a known polynomial-time algorithm which solves it exactly. In this first lab session, we will try to leverage *Genetic Algorithm* (GA) to come up with a solution.\n",
    "\n",
    "Let's start by importing some useful modules."
   ]
  },
  {
   "cell_type": "code",
   "execution_count": 1,
   "metadata": {},
   "outputs": [],
   "source": [
    "import random\n",
    "import numpy as np"
   ]
  },
  {
   "cell_type": "markdown",
   "metadata": {},
   "source": [
    "We define a `City` class to handle our cities more easily. "
   ]
  },
  {
   "cell_type": "code",
   "execution_count": 2,
   "metadata": {},
   "outputs": [],
   "source": [
    "class City:\n",
    "    def __init__(self, x, y):\n",
    "        self.x = x\n",
    "        self.y = y\n",
    "    \n",
    "    def __repr__(self):\n",
    "        return \"(\" + str(self.x) + \", \" + str(self.y) + \")\"\n",
    "    \n",
    "    def __eq__(self, other_city):\n",
    "        return isinstance(other_city, City) and self.x == other_city.x and self.y == other_city.y\n",
    "    \n",
    "    def __ne__(self, other_city):\n",
    "        return not self == other_city\n",
    "    \n",
    "    def distance(self, city):\n",
    "        x_diff = abs(self.x - city.x)\n",
    "        y_diff = abs(self.y - city.y)\n",
    "        return np.sqrt((x_diff ** 2) + (y_diff ** 2))"
   ]
  },
  {
   "cell_type": "markdown",
   "metadata": {},
   "source": [
    "Now we want a function to initialize our population. Remember that each route must contain each city **exactly once**."
   ]
  },
  {
   "cell_type": "code",
   "execution_count": 3,
   "metadata": {},
   "outputs": [],
   "source": [
    "def get_cities(n_cities, x_range, y_range):\n",
    "    cities = []\n",
    "    for _ in range(0, n_cities):\n",
    "        cities.append(City(x=int(random.random() * x_range), y=int(random.random() * y_range)))\n",
    "    return cities\n",
    "\n",
    "def init_population(cities, pop_size):\n",
    "    return [random.sample(cities, len(cities)) for _ in range(0, pop_size)]"
   ]
  },
  {
   "cell_type": "markdown",
   "metadata": {},
   "source": [
    "We define the **fitness** as the inverse of the route distance. Since we want to minimise the distance, we want to maximise our fitness score."
   ]
  },
  {
   "cell_type": "code",
   "execution_count": 4,
   "metadata": {},
   "outputs": [],
   "source": [
    "def fitness_score(route):\n",
    "    total_distance = 0\n",
    "    for i in range(0, len(route)):\n",
    "        city1 = route[i]\n",
    "        city2 = None\n",
    "        if i + 1 < len(route):\n",
    "            city2 = route[i + 1]\n",
    "        else:\n",
    "            city2 = route[0]\n",
    "        total_distance += city1.distance(city2)\n",
    "    return 1 / float(total_distance)"
   ]
  },
  {
   "cell_type": "markdown",
   "metadata": {},
   "source": [
    "We define now a function to perform **tournament selection** (or any other selection strategy you may prefer)."
   ]
  },
  {
   "cell_type": "code",
   "execution_count": 5,
   "metadata": {},
   "outputs": [],
   "source": [
    "def tournament_selection(pop, fit, k):\n",
    "  tournament = random.choices(pop, k=k)\n",
    "  selected = max([(fit(x), x) for x in tournament])\n",
    "  return selected[1]"
   ]
  },
  {
   "cell_type": "markdown",
   "metadata": {},
   "source": [
    "Since each individual is a permutation of a set of different cities we must ensure that crossover and mutation generate valid individuals. As for the crossover, we can choose between the **partially mapped crossover** (**PMX**) and the **cycle crossover**. Let's implement both."
   ]
  },
  {
   "cell_type": "code",
   "execution_count": 6,
   "metadata": {},
   "outputs": [],
   "source": [
    "def pmx(parent1, parent2):\n",
    "    offspring = parent1[:]\n",
    "    \n",
    "    #Select randomly the 2 crossover points\n",
    "    point1, point2 = random.sample(range(len(parent1)), 2)\n",
    "    point1, point2 = min(point1, point2), max(point1, point2)\n",
    "    \n",
    "    #Perform the exchange\n",
    "    for i in range(point1, point2+1):\n",
    "        offspring[i] = parent2[i]\n",
    "\n",
    "    #Fill the remaining positions to make the offspring valid\n",
    "    for i in range(len(parent1)):\n",
    "        if i < point1 or i > point2:\n",
    "            while offspring[i] in offspring[point1:point2 + 1]:\n",
    "                idx = offspring.index(offspring[i], point1, point2 + 1)\n",
    "                offspring[i] = parent1[idx]\n",
    "    return offspring\n"
   ]
  },
  {
   "cell_type": "code",
   "execution_count": 7,
   "metadata": {},
   "outputs": [],
   "source": [
    "def cx(parent1, parent2):\n",
    "    #The elements which are not visited by the cycle are the ones of the second parent\n",
    "    offspring = parent2[:]\n",
    "    visited = [False] * len(parent1)\n",
    "\n",
    "    #Select a random starting point\n",
    "    i = random.sample(range(len(parent1)), 1)[0]\n",
    "\n",
    "    while not visited[i]:\n",
    "        visited[i] = True\n",
    "        i = parent2.index(parent1[i])\n",
    "        offspring[i] = parent1[i]\n",
    "\n",
    "    return offspring"
   ]
  },
  {
   "cell_type": "markdown",
   "metadata": {},
   "source": [
    "Let's check if we did everything right with simple lists of integers"
   ]
  },
  {
   "cell_type": "code",
   "execution_count": 17,
   "metadata": {},
   "outputs": [
    {
     "name": "stdout",
     "output_type": "stream",
     "text": [
      "[7, 2, 3, 6, 1, 4, 5]\n",
      "[7, 2, 5, 6, 1, 4, 3]\n"
     ]
    }
   ],
   "source": [
    "parent1 = [7, 2, 3, 1, 5, 4, 6]\n",
    "parent2 = [2, 4, 5, 6, 1, 7, 3]\n",
    "\n",
    "\n",
    "print(pmx(parent1, parent2))\n",
    "print(cx(parent1, parent2))"
   ]
  },
  {
   "cell_type": "markdown",
   "metadata": {},
   "source": [
    "Also the mutation needs to generate valid individuals."
   ]
  },
  {
   "cell_type": "code",
   "execution_count": 25,
   "metadata": {},
   "outputs": [],
   "source": [
    "def mutate(individual, p_m):\n",
    "    for i in range(len(individual)):\n",
    "        if(random.random() < p_m):\n",
    "            swap_idx = int(random.random() * len(individual))\n",
    "            city1 = individual[i]\n",
    "            city2 = individual[swap_idx]\n",
    "            individual[i] = city2\n",
    "            individual[swap_idx] = city1\n",
    "    return individual"
   ]
  },
  {
   "cell_type": "markdown",
   "metadata": {},
   "source": [
    "Now we define the function `generation`, exploiting the the ones we defined before for:\n",
    "- Selection\n",
    "- Crossover\n",
    "- Mutation"
   ]
  },
  {
   "cell_type": "code",
   "execution_count": 26,
   "metadata": {},
   "outputs": [],
   "source": [
    "def generation(pop, fit, crossover, p_m, t_size, elitism=True, k_el=1):\n",
    "  pop_size = len(pop)\n",
    "  elite = []\n",
    "  if elitism: #the best k_el individual are passed directly to the next generation\n",
    "    sorted_pop = sorted(pop, key=lambda x:fit(x), reverse=True)\n",
    "    elite+=sorted_pop[:k_el]\n",
    "  selected = [tournament_selection(pop, fit, t_size) for _ in range(0, pop_size-len(elite))]\n",
    "  pairs = zip(selected, selected[1:] + selected[0:1])\n",
    "  offsprings = [crossover(*pair) for pair in pairs]\n",
    "  return list(map(lambda x: mutate(x, p_m), offsprings)) + elite"
   ]
  },
  {
   "cell_type": "markdown",
   "metadata": {},
   "source": [
    "We can define our GA for a given number of generations."
   ]
  },
  {
   "cell_type": "code",
   "execution_count": 27,
   "metadata": {},
   "outputs": [],
   "source": [
    "def get_best(pop, fit):\n",
    "  return max([(fit(x), x) for x in pop])"
   ]
  },
  {
   "cell_type": "code",
   "execution_count": 28,
   "metadata": {},
   "outputs": [],
   "source": [
    "def GA(cities, pop_size, n, fit, crossover, t_size = 10, n_gen = 200):\n",
    "  p_m = 1/n\n",
    "  pop = init_population(cities, pop_size)\n",
    "  history = [get_best(pop, fit)[0]]\n",
    "  for _ in range(0, n_gen):\n",
    "    pop = generation(pop, fit, crossover, p_m, t_size)\n",
    "    history.append(get_best(pop, fit)[0])\n",
    "  return get_best(pop, fit), history"
   ]
  },
  {
   "cell_type": "markdown",
   "metadata": {},
   "source": [
    "Run the Algorithm with different crossover startegies and parametrisations. For each experiment, make a line plot showing the best fitness score for each generation."
   ]
  },
  {
   "cell_type": "code",
   "execution_count": 29,
   "metadata": {},
   "outputs": [],
   "source": [
    "cities = get_cities(25, 200, 200)"
   ]
  },
  {
   "cell_type": "code",
   "execution_count": 30,
   "metadata": {},
   "outputs": [
    {
     "name": "stdout",
     "output_type": "stream",
     "text": [
      "0.001045315843021418\n"
     ]
    }
   ],
   "source": [
    "res, history = GA(cities=cities, pop_size=41, n=len(cities), fit=fitness_score, crossover=pmx)\n",
    "print(res[0])"
   ]
  },
  {
   "cell_type": "code",
   "execution_count": 31,
   "metadata": {},
   "outputs": [],
   "source": [
    "import matplotlib.pyplot as plt"
   ]
  },
  {
   "cell_type": "code",
   "execution_count": 32,
   "metadata": {},
   "outputs": [
    {
     "data": {
      "image/png": "[encoded data removed]",
      "text/plain": [
       "<Figure size 640x480 with 1 Axes>"
      ]
     },
     "metadata": {},
     "output_type": "display_data"
    }
   ],
   "source": [
    "plt.plot(history)\n",
    "plt.ylabel('Fitness')\n",
    "plt.xlabel('Generation')\n",
    "plt.show()"
   ]
  },
  {
   "cell_type": "markdown",
   "metadata": {},
   "source": [
    "Let's plot the solution found by the GA. "
   ]
  },
  {
   "cell_type": "code",
   "execution_count": 33,
   "metadata": {},
   "outputs": [
    {
     "data": {
      "image/png": "[encoded data removed]",
      "text/plain": [
       "<Figure size 640x480 with 1 Axes>"
      ]
     },
     "metadata": {},
     "output_type": "display_data"
    }
   ],
   "source": [
    "route = res[1]\n",
    "\n",
    "x = [city.x for city in route]\n",
    "y = [city.y for city in route]\n",
    "\n",
    "plt.scatter(x, y, label='Cities', color='blue')\n",
    "\n",
    "for i in range(len(cities) - 1):\n",
    "    plt.plot([x[i], x[i + 1]], [y[i], y[i + 1]], 'r-')\n",
    "\n",
    "plt.plot([x[len(cities)-1], x[0]], [y[len(cities)-1], y[0]], 'r-')\n",
    "plt.title('Solution')\n",
    "\n",
    "# Show legend\n",
    "plt.legend()\n",
    "\n",
    "# Show the plot\n",
    "plt.show()"
   ]
  }
 ],
 "metadata": {
  "kernelspec": {
   "display_name": "optai",
   "language": "python",
   "name": "python3"
  },
  "language_info": {
   "codemirror_mode": {
    "name": "ipython",
    "version": 3
   },
   "file_extension": ".py",
   "mimetype": "text/x-python",
   "name": "python",
   "nbconvert_exporter": "python",
   "pygments_lexer": "ipython3",
   "version": "3.11.6"
  },
  "orig_nbformat": 4
 },
 "nbformat": 4,
 "nbformat_minor": 2
}
