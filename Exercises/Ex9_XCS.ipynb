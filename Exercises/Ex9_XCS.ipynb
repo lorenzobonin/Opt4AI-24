{
 "cells": [
  {
   "cell_type": "markdown",
   "metadata": {},
   "source": [
    "# Finding the needle in the haystack with the XCS algorithm\n",
    "\n",
    "In this lab session, we will use the XCS algorithm to find the famous \"needle in the haystack\". In our case, the haystack will be an array of a certain size, with the needle positioned at a specific location. Our algorithm must be able to learn a set of rules to find a single important input bit (the \"needle\") from among a large array of irrelevant input bits (the \"haystack\").\n",
    "We will use the ```xcs``` Python library that, obviously, implements the XCS algorithm. Let us import some useful modules and utilities."
   ]
  },
  {
   "cell_type": "code",
   "execution_count": 94,
   "metadata": {},
   "outputs": [],
   "source": [
    "import xcs\n",
    "import random\n",
    "from xcs.scenarios import Scenario\n",
    "from xcs.bitstrings import BitString"
   ]
  },
  {
   "cell_type": "markdown",
   "metadata": {},
   "source": [
    "We need to define a custom Scenario for our haystack problem. We can inherit from the Scenario abstract class defined in the ```xcs.scenarios``` submodule. Specifically, you need to define the following methods and properties:\n",
    "\n",
    "- ```__init__```, taking 2 parameters: ```training_cycles```, to determine how many reward cycles the algorithm has to identify the \"needle\", and another parameter, ```input_size```, to determine how big the \"haystack\" is\n",
    "- ```is_dynamic```, a property with a Boolean value that indicates whether the actions from one reward cycle can affect the rewards or situations of later reward cycles.\n",
    "- ```get_possible_actions```, a method returning the actions the algorithm can take.\n",
    "- ```reset```, a method performing the actions to restart the problem for a new run.\n",
    "- ```sense```, a method which returns a new input (the \"situation\").\n",
    "- ```execute```, a method which takes an action from among those returned by get_possible_actions(), in response to the last situation that was returned by sense(). It then returns a reward value indicating how well the algorithm is doing at responding correctly to each situation.\n",
    "- ```more```, a methods which returns a Boolean value to indicate whether the algorithm has remaining reward cycles in which to learn."
   ]
  },
  {
   "cell_type": "code",
   "execution_count": 95,
   "metadata": {},
   "outputs": [],
   "source": [
    "class HaystackScenario(Scenario):\n",
    "    \n",
    "    def __init__(self, training_cycles=1000, input_size=500):\n",
    "        self.input_size = input_size\n",
    "        self.initial_training_cycles = training_cycles\n",
    "        self.remaining_cycles = training_cycles\n",
    "        #CODE HERE\n",
    "\n",
    "    @property\n",
    "    def is_dynamic(self):\n",
    "        #CODE HERE\n",
    "        \n",
    "    def get_possible_actions(self):\n",
    "        #CODE HERE\n",
    "    \n",
    "    def reset(self):\n",
    "        #CODE HERE\n",
    "        \n",
    "    def more(self):\n",
    "        #CODE HERE\n",
    "    \n",
    "    def sense(self):\n",
    "        #CODE HERE\n",
    "    \n",
    "    def execute(self, action):\n",
    "        #CODE HERE"
   ]
  },
  {
   "cell_type": "markdown",
   "metadata": {},
   "source": [
    "We can now instantiate our scenario, as well as the xcs algorithm."
   ]
  },
  {
   "cell_type": "code",
   "execution_count": null,
   "metadata": {},
   "outputs": [],
   "source": [
    "scenario = HaystackScenario(training_cycles=1000, input_size=200)\n",
    "\n",
    "algorithm = xcs.XCSAlgorithm()"
   ]
  },
  {
   "cell_type": "markdown",
   "metadata": {},
   "source": [
    "Run the algorithm for different parameter settings, starting from the default ones, and inspect the rules found by the algorithm. Are they consistent with what you expected?"
   ]
  },
  {
   "cell_type": "code",
   "execution_count": null,
   "metadata": {},
   "outputs": [],
   "source": [
    "# The probability of choosing a random, potentially suboptimal action from the suggestions made by the match set rather than choosing an optimal one.\n",
    "algorithm.exploration_probability =\n",
    "# how often the genetic algorithm is applied to an action set.\n",
    "algorithm.ga_threshold =\n",
    "# The probability that crossover will be applied to the selected parents in a GA selection step.\n",
    "algorithm.crossover_probability =\n",
    "# Subsumption is the replacement of a classifier with another classifier, already existing in the classifier set, which is a generalization of it and is considered accurate.\n",
    "# This parameter determines whether subsumption is applied to action sets after they are selected and receive a payoff.\n",
    "algorithm.do_action_set_subsumption =\n",
    "# This parameter controls whether subsumption is applied to eliminate newly added classifiers in a GA selection step.\n",
    "algorithm.do_ga_subsumption =\n",
    "# The probability of any given bit being a wildcard in the conditions of the randomly generated classifiers produced during covering.\n",
    "algorithm.wildcard_probability =\n",
    "# The minimum experience of a classifier before its fitness is considered in its probability of deletion in a GA deletion step.\n",
    "algorithm.deletion_threshold =\n",
    "# This parameter represents the probability of a mutation at any location along the condition, converting a wildcard to a non- wildcard or vice versa, in the condition of a new classifier generated by the genetic algorithm\n",
    "algorithm.mutation_probability ="
   ]
  },
  {
   "cell_type": "code",
   "execution_count": 98,
   "metadata": {},
   "outputs": [],
   "source": [
    "model = algorithm.new_model(scenario)\n",
    "model.run(scenario, learn=True)"
   ]
  },
  {
   "cell_type": "code",
   "execution_count": null,
   "metadata": {},
   "outputs": [],
   "source": [
    "print(len(model))"
   ]
  },
  {
   "cell_type": "code",
   "execution_count": null,
   "metadata": {},
   "outputs": [],
   "source": [
    "for rule in model:\n",
    "    if rule.fitness > .4:\n",
    "        print(f\"{rule.condition} => {rule.action}\\t {rule.fitness}\")"
   ]
  }
 ],
 "metadata": {
  "kernelspec": {
   "display_name": "optai",
   "language": "python",
   "name": "python3"
  },
  "language_info": {
   "codemirror_mode": {
    "name": "ipython",
    "version": 3
   },
   "file_extension": ".py",
   "mimetype": "text/x-python",
   "name": "python",
   "nbconvert_exporter": "python",
   "pygments_lexer": "ipython3",
   "version": "3.11.6"
  }
 },
 "nbformat": 4,
 "nbformat_minor": 2
}
