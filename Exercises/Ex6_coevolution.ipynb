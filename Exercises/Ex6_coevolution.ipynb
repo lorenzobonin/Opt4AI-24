{
 "cells": [
  {
   "cell_type": "markdown",
   "metadata": {},
   "source": [
    "# Evolving sorting networks through coevolution\n",
    "\n",
    "In this lab session we are going to leverage **coevolution** to evolve **sorting networks**.\n",
    "\n",
    "Sorting networks are algorithms designed to arrange a sequence of elements into a specific order, usually ascending or descending. The key feature of sorting networks is that they use a fixed set of comparisons and swaps to achieve the sorting, and this set of operations is independent of the input data ([wikipedia](https://en.wikipedia.org/wiki/Sorting_network)).\n",
    "\n",
    "We will represent networks as lists of comparators, where each comparator is a pair of indices indicating which elements to compare.\n",
    "\n",
    "First of all, we import the random module and set the seed."
   ]
  },
  {
   "cell_type": "code",
   "execution_count": 43,
   "metadata": {},
   "outputs": [],
   "source": [
    "import random\n",
    "random.seed(0)"
   ]
  },
  {
   "cell_type": "markdown",
   "metadata": {},
   "source": [
    "Let us define a function which sorts an array with a given sorting network."
   ]
  },
  {
   "cell_type": "code",
   "execution_count": 44,
   "metadata": {},
   "outputs": [],
   "source": [
    "def eval_sorting_network(sn, array):\n",
    "    array = array.copy()\n",
    "    for i, j in sn:\n",
    "        if array[i] > array[j]:\n",
    "            array[i], array[j] = array[j], array[i]\n",
    "    return array"
   ]
  },
  {
   "cell_type": "code",
   "execution_count": null,
   "metadata": {},
   "outputs": [],
   "source": [
    "sn=[(0,2), (1,3), (0,3), (1,2), (0,1), (2,3)]\n",
    "eval_sorting_network(sn, [1,7,2,3])"
   ]
  },
  {
   "cell_type": "markdown",
   "metadata": {},
   "source": [
    "Now, we write the code to initialize the 2 competing populations: one for the networks and one for the arrays."
   ]
  },
  {
   "cell_type": "code",
   "execution_count": 46,
   "metadata": {},
   "outputs": [],
   "source": [
    "def get_random_network(value_range, depth):\n",
    "    return [tuple(sorted(random.sample(value_range, k=2))) for _ in range(depth)]"
   ]
  },
  {
   "cell_type": "code",
   "execution_count": 47,
   "metadata": {},
   "outputs": [],
   "source": [
    "def init_array_population(value_range, dim, pop_size):\n",
    "    return [random.choices(value_range, k=dim) for _ in range(0, pop_size)]\n",
    "\n",
    "def init_network_population(value_range, min_depth, max_depth, pop_size):\n",
    "    pop = []\n",
    "    for _ in range(pop_size):\n",
    "        depth = random.choice(range(min_depth, max_depth+1))\n",
    "        pop.append(get_random_network(value_range, depth))\n",
    "    return pop"
   ]
  },
  {
   "cell_type": "markdown",
   "metadata": {},
   "source": [
    "Let us define the 2 fitness functions. A network will have good fitness if it can sort many arrays, while an array will have good fitness if it can 'trick' many networks."
   ]
  },
  {
   "cell_type": "code",
   "execution_count": null,
   "metadata": {},
   "outputs": [],
   "source": [
    "def net_fitness(net_pop, arr_pop, k=10):\n",
    "    # CODE HERE\n",
    "    pass\n",
    "\n",
    "def arr_fitness(net_pop, arr_pop, k=10):\n",
    "    # CODE HERE\n",
    "    pass"
   ]
  },
  {
   "cell_type": "markdown",
   "metadata": {},
   "source": [
    "We now implement the tournament selection and the crossover. We can use the same functions for both the populations."
   ]
  },
  {
   "cell_type": "code",
   "execution_count": 49,
   "metadata": {},
   "outputs": [],
   "source": [
    "def tournament_selection(pop, scores, k):\n",
    "  tournament = random.choices(range(len(pop)), k=k)\n",
    "  selected = max([(scores[idx], pop[idx]) for idx in tournament])\n",
    "  return selected[1]"
   ]
  },
  {
   "cell_type": "code",
   "execution_count": null,
   "metadata": {},
   "outputs": [],
   "source": [
    "def crossover(x, y):\n",
    "  # CODE HERE\n",
    "  pass"
   ]
  },
  {
   "cell_type": "markdown",
   "metadata": {},
   "source": [
    "We can now implement a mutation function for the arrays."
   ]
  },
  {
   "cell_type": "code",
   "execution_count": 51,
   "metadata": {},
   "outputs": [],
   "source": [
    "def array_mutation(x, value_range, p_m):\n",
    "  def mutate(v):\n",
    "    if random.random() < p_m:\n",
    "        res = random.choice(value_range)\n",
    "        while res == v: # we avoid sampling the same value\n",
    "            res = random.choice(value_range)\n",
    "        return res\n",
    "    else:\n",
    "      return v\n",
    "  return [mutate(v) for v in x]"
   ]
  },
  {
   "cell_type": "markdown",
   "metadata": {},
   "source": [
    "Now, we can choose one or more mutation operators for the sorting networks. You can use different ones during the evolution."
   ]
  },
  {
   "cell_type": "code",
   "execution_count": null,
   "metadata": {},
   "outputs": [],
   "source": [
    "def sn_mutation(sn, value_range, p_m): # the arguments may change depending on the specific kind of mutation\n",
    "    # CODE HERE\n",
    "    pass"
   ]
  },
  {
   "cell_type": "markdown",
   "metadata": {},
   "source": [
    "We have now all the elements to write the code for a generation."
   ]
  },
  {
   "cell_type": "code",
   "execution_count": 53,
   "metadata": {},
   "outputs": [],
   "source": [
    "def get_best(pop, scores):\n",
    "  return max(list(zip(scores, pop)))"
   ]
  },
  {
   "cell_type": "code",
   "execution_count": null,
   "metadata": {},
   "outputs": [],
   "source": [
    "def generation(net_pop, arr_pop, net_scores, arr_scores, crossover, arr_dim, value_range, p_m, t_size):\n",
    "  pop_size = len(net_pop)\n",
    "  # perform selection for both the populations\n",
    "  selected_net = [tournament_selection(net_pop, net_scores, t_size) for _ in range(0, pop_size)]\n",
    "  selected_arr = [tournament_selection(arr_pop, arr_scores, t_size) for _ in range(0, pop_size)]\n",
    "  # perform crossover\n",
    "  # CODE HERE\n",
    "  # apply the mutation operator(s) to the offspring\n",
    "  # CODE HERE\n",
    "  return net_pop, arr_pop"
   ]
  },
  {
   "cell_type": "markdown",
   "metadata": {},
   "source": [
    "We can now define our `coevolution` function."
   ]
  },
  {
   "cell_type": "code",
   "execution_count": null,
   "metadata": {},
   "outputs": [],
   "source": [
    "def coevolution(value_range, \n",
    "                pop_size,\n",
    "                arr_dim,\n",
    "                min_depth,\n",
    "                max_depth,\n",
    "                net_fit,\n",
    "                arr_fit,\n",
    "                crossover,\n",
    "                t_size = 10, \n",
    "                n_gen = 200,\n",
    "                k_fit = 50):\n",
    "  \n",
    "  p_m = 1/arr_dim\n",
    "  # initialize the population\n",
    "  Pt = init_network_population(range(arr_dim), min_depth, max_depth, pop_size)\n",
    "  Qt = init_array_population(value_range, arr_dim, pop_size)\n",
    "\n",
    "  net_scores = net_fit(Pt, Qt, k_fit)\n",
    "  arr_scores = arr_fit(Pt, Qt, k_fit)\n",
    "  net_history = [get_best(Pt, net_scores)[0]]\n",
    "  arr_history = [get_best(Qt, arr_scores)[0]]\n",
    "  \n",
    "  for _ in range(0, n_gen):\n",
    "    # CODE HERE\n",
    "    net_history.append(get_best(Pt, net_scores)[0])\n",
    "    arr_history.append(get_best(Qt, arr_scores)[0])\n",
    "    \n",
    "  return get_best(Pt, net_scores)[1], get_best(Qt, arr_scores)[1], net_history, arr_history"
   ]
  },
  {
   "cell_type": "markdown",
   "metadata": {},
   "source": [
    "Try your code for different array dimensions and parameters."
   ]
  },
  {
   "cell_type": "code",
   "execution_count": null,
   "metadata": {},
   "outputs": [],
   "source": [
    "best_net, best_arr, net_history, arr_history = coevolution(\n",
    "    value_range=range(50), \n",
    "    pop_size= ,\n",
    "    arr_dim= ,\n",
    "    min_depth= ,\n",
    "    max_depth= ,\n",
    "    net_fit=net_fitness,\n",
    "    arr_fit=arr_fitness,\n",
    "    crossover=crossover,\n",
    "    t_size = ,\n",
    "    n_gen = ,\n",
    "    k_fit = \n",
    "    )"
   ]
  },
  {
   "cell_type": "code",
   "execution_count": null,
   "metadata": {},
   "outputs": [],
   "source": [
    "print(best_net)\n",
    "print(best_arr)"
   ]
  },
  {
   "cell_type": "code",
   "execution_count": null,
   "metadata": {},
   "outputs": [],
   "source": [
    "random_arr = random.sample(range(50), k = 10)\n",
    "print(random_arr)\n",
    "eval_sorting_network(best_net, random_arr)"
   ]
  },
  {
   "cell_type": "code",
   "execution_count": null,
   "metadata": {},
   "outputs": [],
   "source": [
    "eval_sorting_network(best_net, best_arr)"
   ]
  },
  {
   "cell_type": "markdown",
   "metadata": {},
   "source": [
    "Plot the evolution of the fitness score of the best individual for both populations"
   ]
  },
  {
   "cell_type": "code",
   "execution_count": 60,
   "metadata": {},
   "outputs": [],
   "source": [
    "import matplotlib.pyplot as plt"
   ]
  },
  {
   "cell_type": "code",
   "execution_count": null,
   "metadata": {},
   "outputs": [],
   "source": [
    "plt.plot(net_history)\n",
    "plt.ylabel('Network fitness')\n",
    "plt.xlabel('Generation')\n",
    "plt.show()"
   ]
  },
  {
   "cell_type": "code",
   "execution_count": null,
   "metadata": {},
   "outputs": [],
   "source": [
    "plt.plot(arr_history)\n",
    "plt.ylabel('Array fitness')\n",
    "plt.xlabel('Generation')\n",
    "plt.show()"
   ]
  }
 ],
 "metadata": {
  "kernelspec": {
   "display_name": "optai",
   "language": "python",
   "name": "python3"
  },
  "language_info": {
   "codemirror_mode": {
    "name": "ipython",
    "version": 3
   },
   "file_extension": ".py",
   "mimetype": "text/x-python",
   "name": "python",
   "nbconvert_exporter": "python",
   "pygments_lexer": "ipython3",
   "version": "3.11.6"
  }
 },
 "nbformat": 4,
 "nbformat_minor": 2
}
