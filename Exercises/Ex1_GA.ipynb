{
 "cells": [
  {
   "cell_type": "markdown",
   "metadata": {},
   "source": [
    "# Solving the Travelling Salesman Problem using Genetic Algorithm\n",
    "\n",
    "The *Traveling Salesman Problem* (TSP) is a classic and extremely important optimisation problem in the field of operations research and computer science. It can be stated as follows: *Given a set of cities and the distances between each pair of cities, the goal is to find the shortest possible route that visits each city exactly once and returns back to the starting city.* The TSP is known to be a NP-hard problem, hence it doesn't have a known polynomial-time algorithm which solves it exactly. In this first lab session, we will try to leverage *Genetic Algorithm* (GA) to come up with a solution.\n",
    "\n",
    "Let's start by importing some useful modules."
   ]
  },
  {
   "cell_type": "code",
   "execution_count": 388,
   "metadata": {},
   "outputs": [],
   "source": [
    "import random\n",
    "import numpy as np"
   ]
  },
  {
   "cell_type": "markdown",
   "metadata": {},
   "source": [
    "We define a `City` class to handle our cities more easily. "
   ]
  },
  {
   "cell_type": "code",
   "execution_count": 389,
   "metadata": {},
   "outputs": [],
   "source": [
    "class City:\n",
    "    def __init__(self, x, y):\n",
    "        self.x = x\n",
    "        self.y = y\n",
    "    \n",
    "    def __repr__(self):\n",
    "        return \"(\" + str(self.x) + \", \" + str(self.y) + \")\"\n",
    "    \n",
    "    def __eq__(self, other_city):\n",
    "        return isinstance(other_city, City) and self.x == other_city.x and self.y == other_city.y\n",
    "    \n",
    "    def __ne__(self, other_city):\n",
    "        return not self == other_city\n",
    "    \n",
    "    def distance(self, city):\n",
    "        x_diff = abs(self.x - city.x)\n",
    "        y_diff = abs(self.y - city.y)\n",
    "        return np.sqrt((x_diff ** 2) + (y_diff ** 2))\n",
    "        pass"
   ]
  },
  {
   "cell_type": "markdown",
   "metadata": {},
   "source": [
    "Now we want a function to initialize our population. Remember that each route must contain each city **exactly once**."
   ]
  },
  {
   "cell_type": "code",
   "execution_count": 390,
   "metadata": {},
   "outputs": [],
   "source": [
    "def get_cities(n_cities, x_range, y_range):\n",
    "    cities = []\n",
    "    for _ in range(0, n_cities):\n",
    "        cities.append(City(x=int(random.random() * x_range), y=int(random.random() * y_range)))\n",
    "    return cities\n",
    "\n",
    "def init_population(cities, pop_size):\n",
    "    # CODE HERE\n",
    "    pass"
   ]
  },
  {
   "cell_type": "markdown",
   "metadata": {},
   "source": [
    "We define the **fitness** as the inverse of the route distance. Since we want to minimise the distance, we want to maximise our fitness score."
   ]
  },
  {
   "cell_type": "code",
   "execution_count": 391,
   "metadata": {},
   "outputs": [],
   "source": [
    "def fitness_score(route):\n",
    "    # CODE HERE\n",
    "    pass"
   ]
  },
  {
   "cell_type": "markdown",
   "metadata": {},
   "source": [
    "We define now a function to perform **tournament selection** (or any other selection strategy you may prefer)."
   ]
  },
  {
   "cell_type": "code",
   "execution_count": 392,
   "metadata": {},
   "outputs": [],
   "source": [
    "def tournament_selection(pop, fit, k):\n",
    "  # CODE HERE\n",
    "  pass"
   ]
  },
  {
   "cell_type": "markdown",
   "metadata": {},
   "source": [
    "Since each individual is a permutation of a set of different cities we must ensure that crossover and mutation generate valid individuals. As for the crossover, we can choose between the **partially mapped crossover** (**PMX**) and the **cycle crossover**. Let's implement both."
   ]
  },
  {
   "cell_type": "code",
   "execution_count": 393,
   "metadata": {},
   "outputs": [],
   "source": [
    "def pmx(parent1, parent2):\n",
    "    # CODE HERE\n",
    "    pass\n"
   ]
  },
  {
   "cell_type": "code",
   "execution_count": 394,
   "metadata": {},
   "outputs": [],
   "source": [
    "def cx(parent1, parent2):\n",
    "    # CODE HERE\n",
    "    pass"
   ]
  },
  {
   "cell_type": "markdown",
   "metadata": {},
   "source": [
    "Let's check if we did everything right with simple lists of integers"
   ]
  },
  {
   "cell_type": "code",
   "execution_count": null,
   "metadata": {},
   "outputs": [],
   "source": [
    "parent1 = [7, 2, 3, 1, 5, 4, 6]\n",
    "parent2 = [2, 4, 5, 6, 1, 7, 3]\n",
    "\n",
    "\n",
    "print(pmx(parent1, parent2))\n",
    "print(cx(parent1, parent2))"
   ]
  },
  {
   "cell_type": "markdown",
   "metadata": {},
   "source": [
    "Also the mutation needs to generate valid individuals. Choose a strategy which suits our problem."
   ]
  },
  {
   "cell_type": "code",
   "execution_count": 396,
   "metadata": {},
   "outputs": [],
   "source": [
    "def mutate(individual, p_m):\n",
    "    # CODE HERE\n",
    "    pass"
   ]
  },
  {
   "cell_type": "markdown",
   "metadata": {},
   "source": [
    "Now we define the function `generation`, which performs:\n",
    "- Selection\n",
    "- Crossover\n",
    "- Mutation\n",
    "\n",
    "One should have the possibility to include elitism."
   ]
  },
  {
   "cell_type": "code",
   "execution_count": 397,
   "metadata": {},
   "outputs": [],
   "source": [
    "def generation(pop, fit, crossover, p_m, t_size, elitism=True, k_el=1):\n",
    "  # CODE HERE\n",
    "  pass"
   ]
  },
  {
   "cell_type": "markdown",
   "metadata": {},
   "source": [
    "A GA performs a generational cycle a predefined number of times."
   ]
  },
  {
   "cell_type": "code",
   "execution_count": 398,
   "metadata": {},
   "outputs": [],
   "source": [
    "def get_best(pop, fit):\n",
    "  return max([(fit(x), x) for x in pop])"
   ]
  },
  {
   "cell_type": "code",
   "execution_count": 399,
   "metadata": {},
   "outputs": [],
   "source": [
    "def GA(cities, pop_size, n, fit, crossover, t_size = 10, n_gen = 200):\n",
    "  # CODE HERE\n",
    "  pass"
   ]
  },
  {
   "cell_type": "markdown",
   "metadata": {},
   "source": [
    "Run the Algorithm with different crossover startegies and parametrisations. For each experiment, make a line plot showing the best fitness score for each generation."
   ]
  },
  {
   "cell_type": "code",
   "execution_count": 400,
   "metadata": {},
   "outputs": [],
   "source": [
    "cities = get_cities(25, 200, 200)"
   ]
  },
  {
   "cell_type": "code",
   "execution_count": null,
   "metadata": {},
   "outputs": [],
   "source": [
    "res, history = GA(cities=cities, pop_size=40, n=len(cities), fit=fitness_score, crossover=pmx)\n",
    "best_fit, best_route = res"
   ]
  },
  {
   "cell_type": "code",
   "execution_count": 402,
   "metadata": {},
   "outputs": [],
   "source": [
    "import matplotlib.pyplot as plt"
   ]
  },
  {
   "cell_type": "code",
   "execution_count": null,
   "metadata": {},
   "outputs": [],
   "source": [
    "plt.plot(history)\n",
    "plt.ylabel('Fitness')\n",
    "plt.xlabel('Generation')\n",
    "plt.show()"
   ]
  },
  {
   "cell_type": "markdown",
   "metadata": {},
   "source": [
    "Let's plot the solution found by the GA. "
   ]
  },
  {
   "cell_type": "code",
   "execution_count": null,
   "metadata": {},
   "outputs": [],
   "source": [
    "route = res[1]\n",
    "\n",
    "x = [city.x for city in route]\n",
    "y = [city.y for city in route]\n",
    "\n",
    "plt.scatter(x, y, label='Cities', color='blue')\n",
    "\n",
    "for i in range(len(cities) - 1):\n",
    "    plt.plot([x[i], x[i + 1]], [y[i], y[i + 1]], 'r-')\n",
    "\n",
    "plt.plot([x[len(cities)-1], x[0]], [y[len(cities)-1], y[0]], 'r-')\n",
    "plt.title('Solution')\n",
    "\n",
    "# Show legend\n",
    "plt.legend()\n",
    "\n",
    "# Show the plot\n",
    "plt.show()"
   ]
  }
 ],
 "metadata": {
  "kernelspec": {
   "display_name": "optai",
   "language": "python",
   "name": "python3"
  },
  "language_info": {
   "codemirror_mode": {
    "name": "ipython",
    "version": 3
   },
   "file_extension": ".py",
   "mimetype": "text/x-python",
   "name": "python",
   "nbconvert_exporter": "python",
   "pygments_lexer": "ipython3",
   "version": "3.11.5"
  },
  "orig_nbformat": 4
 },
 "nbformat": 4,
 "nbformat_minor": 2
}
