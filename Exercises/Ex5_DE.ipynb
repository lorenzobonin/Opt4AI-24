{
 "cells": [
  {
   "cell_type": "markdown",
   "metadata": {},
   "source": [
    "# Comparing different mutation strategies in Differential Evolution\n",
    "In this exercise, we will implement **Differential Evolution** (DE) from scratch and evaluate the performance of various mutation strategies. Our objective is to find the minimum of several well-known benchmark functions, which are commonly used to assess optimization algorithms.\n",
    "\n",
    "- **Griewank**:\n",
    "\n",
    "    $f(x) = 1 + \\frac{1}{4000} \\sum_{i=1}^{n} x_i^2 - \\prod_{i=1}^{n} \\cos\\left(\\frac{x_i}{\\sqrt{i}}\\right)$\n",
    "\n",
    "- **Rastrigin**:\n",
    "\n",
    "    $f(x) = 10 \\cdot n + \\sum_{i=1}^{n} \\left( x_i^2 - 10 \\cdot \\cos(2\\pi x_i) \\right)$\n",
    "\n",
    "- **Schaffer**\n",
    "\n",
    "    $f(x) = \\sum_{i=1}^{n-1} \\left( x_i^2 + x_{i+1}^2 \\right)^{0.25} \\cdot \\left[ \\sin^2\\left(50 \\cdot (x_i^2 + x_{i+1}^2)^{0.1}\\right) + 1 \\right]$\n",
    "\n",
    "- **Rosenbrock**\n",
    "\n",
    "    $f(x) = \\sum_{i=1}^{n-1} \\left[100 \\cdot (x_{i+1} - x_i^2)^2 + (1 - x_i)^2\\right]$\n",
    "\n",
    "Let's import some useful modules and implement the benchmark functions."
   ]
  },
  {
   "cell_type": "code",
   "execution_count": null,
   "metadata": {},
   "outputs": [],
   "source": [
    "import numpy as np\n",
    "import random\n",
    "import math\n",
    "import matplotlib.pyplot as plt"
   ]
  },
  {
   "cell_type": "code",
   "execution_count": null,
   "metadata": {},
   "outputs": [],
   "source": [
    "def griewank(x):\n",
    "    sum_sq = sum(xi**2 for xi in x)\n",
    "    prod_cos = math.prod(math.cos(xi / math.sqrt(i + 1)) for i, xi in enumerate(x))\n",
    "    return 1 + (1/4000) * sum_sq - prod_cos"
   ]
  },
  {
   "cell_type": "code",
   "execution_count": null,
   "metadata": {},
   "outputs": [],
   "source": [
    "def rastrigin(x):\n",
    "    n = len(x)\n",
    "    sum_sq = sum(xi**2 - (10 * math.cos(2 * math.pi * xi)) for xi in x)\n",
    "    return 10 * n + sum_sq"
   ]
  },
  {
   "cell_type": "code",
   "execution_count": null,
   "metadata": {},
   "outputs": [],
   "source": [
    "def schaffer(x):\n",
    "    n = len(x)\n",
    "    result = 0\n",
    "    for i in range(n-1):\n",
    "        term = (x[i]**2 + x[i+1]**2)\n",
    "        result += (term**0.25) * (math.sin(50 * (term**0.1))**2 + 1)\n",
    "    return result"
   ]
  },
  {
   "cell_type": "code",
   "execution_count": null,
   "metadata": {},
   "outputs": [],
   "source": [
    "def rosenbrock(x):\n",
    "    n = len(x)\n",
    "    result = 0\n",
    "    for i in range(n - 1):\n",
    "        result += 100 * (x[i+1] - x[i]**2)**2 + (1 - x[i])**2\n",
    "    return result"
   ]
  },
  {
   "cell_type": "markdown",
   "metadata": {},
   "source": [
    "We can now define a function to plot a given benchmark function and a collection of points on it."
   ]
  },
  {
   "cell_type": "code",
   "execution_count": 259,
   "metadata": {},
   "outputs": [],
   "source": [
    "def plot_function(pop, func, val_range, title):\n",
    "    ax = plt.figure(figsize=(20,10)).add_subplot(projection='3d')\n",
    "    ax.set_title(title)\n",
    "    xvals = np.linspace(val_range[0], val_range[1], 10*(val_range[1]-val_range[0]))\n",
    "    yvals = np.linspace(val_range[0], val_range[1], 10*(val_range[1]-val_range[0]))\n",
    "    xx, yy = np.meshgrid(xvals, yvals)\n",
    "    z = np.zeros_like(xx)\n",
    "    for i in range(xx.shape[0]):\n",
    "        for j in range(xx.shape[1]):\n",
    "            input_vector = [xx[i, j], yy[i, j]]\n",
    "            z[i, j] = func(input_vector)\n",
    "    ax.plot_surface(xx, yy, z, antialiased=True, alpha=0.2)\n",
    "    x_pop = [p[0] for p in pop]\n",
    "    y_pop = [p[1] for p in pop]\n",
    "    z_pop = [func(p) for p in pop]\n",
    "    ax.scatter(x_pop, y_pop, z_pop, c=\"red\")\n",
    "    return ax"
   ]
  },
  {
   "cell_type": "markdown",
   "metadata": {},
   "source": [
    "Implement now different versions of Differential Mutation (e.g., *DE/rand/1*, *DE/best/1*, etc...)"
   ]
  },
  {
   "cell_type": "code",
   "execution_count": null,
   "metadata": {},
   "outputs": [],
   "source": [
    "def donor_de_rand_1(pop, current, best, F=2):\n",
    "    # CODE HERE\n",
    "    pass"
   ]
  },
  {
   "cell_type": "code",
   "execution_count": 261,
   "metadata": {},
   "outputs": [],
   "source": [
    "def donor_de_best_1(pop, current, best, F=2):\n",
    "    # CODE HERE\n",
    "    pass"
   ]
  },
  {
   "cell_type": "code",
   "execution_count": 262,
   "metadata": {},
   "outputs": [],
   "source": [
    "def donor_de_curr2best_1(pop, current, best, F=2):\n",
    "    # CODE HERE\n",
    "    pass"
   ]
  },
  {
   "cell_type": "code",
   "execution_count": 263,
   "metadata": {},
   "outputs": [],
   "source": [
    "def donor_de_rand_2(pop, current, best, F=2):\n",
    "    # CODE HERE\n",
    "    pass"
   ]
  },
  {
   "cell_type": "code",
   "execution_count": 264,
   "metadata": {},
   "outputs": [],
   "source": [
    "def donor_de_rand2best_1(pop, current, best, F=2):\n",
    "    # CODE HERE\n",
    "    pass"
   ]
  },
  {
   "cell_type": "markdown",
   "metadata": {},
   "source": [
    "Implement now a function to get the trial vector and one for the selection."
   ]
  },
  {
   "cell_type": "code",
   "execution_count": 265,
   "metadata": {},
   "outputs": [],
   "source": [
    "def trial_vector(x, v, p_cr = 0.5):\n",
    "    # CODE HERE\n",
    "    pass"
   ]
  },
  {
   "cell_type": "code",
   "execution_count": 266,
   "metadata": {},
   "outputs": [],
   "source": [
    "def selection(x, u, fit):\n",
    "    # CODE HERE\n",
    "    pass"
   ]
  },
  {
   "cell_type": "markdown",
   "metadata": {},
   "source": [
    "Exploit the previous functions to implement a ```generation``` function. "
   ]
  },
  {
   "cell_type": "code",
   "execution_count": 267,
   "metadata": {},
   "outputs": [],
   "source": [
    "def generation(pop, fit, dm, best):\n",
    "    next_gen = []\n",
    "    for i in range(0, len(pop)):\n",
    "        # CODE HERE\n",
    "    return next_gen"
   ]
  },
  {
   "cell_type": "markdown",
   "metadata": {},
   "source": [
    "We can now define differential evolution.\n",
    "The function returns the last population, the history of all generations and the best individual."
   ]
  },
  {
   "cell_type": "code",
   "execution_count": null,
   "metadata": {},
   "outputs": [],
   "source": [
    "def differential_evolution(n_gens, pop_size, search_space, fit, dm):\n",
    "    pop = []\n",
    "    hist = []\n",
    "    n = len(search_space)\n",
    "\n",
    "    # initialize the population\n",
    "    for _ in range(0, pop_size):\n",
    "        # CODE HERE\n",
    "\n",
    "    hist.append(pop)\n",
    "    best = min(pop, key=fit)\n",
    "    \n",
    "    for _ in range(0, n_gens):\n",
    "        # CODE HERE\n",
    "\n",
    "    return pop, hist, best"
   ]
  },
  {
   "cell_type": "markdown",
   "metadata": {},
   "source": [
    "Try all the methods defined abow on the different benchmark functions and see how they work."
   ]
  },
  {
   "cell_type": "code",
   "execution_count": null,
   "metadata": {},
   "outputs": [],
   "source": [
    "np.random.seed(0)\n",
    "random.seed(0)\n",
    "\n",
    "n_gen = 100\n",
    "pop_size = 20\n",
    "\n",
    "f = rastrigin\n",
    "search_space = [[-10, 10], [-10, 10]]\n",
    "plot_interval = [-10, 10]"
   ]
  },
  {
   "cell_type": "code",
   "execution_count": null,
   "metadata": {},
   "outputs": [],
   "source": [
    "last_rand1, hist_rand1, best_rand1 = differential_evolution(n_gen, pop_size, search_space, f, donor_de_rand_1)\n",
    "last_best1, hist_best1, best_best1 = differential_evolution(n_gen, pop_size, search_space, f, donor_de_best_1)\n",
    "last_curr2best1, hist_curr2best1, best_curr2best1 = differential_evolution(n_gen, pop_size, search_space, f, donor_de_curr2best_1)\n",
    "last_rand2, hist_rand2, best_rand2 = differential_evolution(n_gen, pop_size, search_space, f, donor_de_rand_2)\n",
    "last_rand2best1, hist_rand2best1, best_rand2best1 = differential_evolution(n_gen, pop_size, search_space, f, donor_de_rand2best_1)\n",
    "\n",
    "print(f\"DE/rand/1: {f(best_rand1)}\")\n",
    "print(f\"DE/best/1: {f(best_best1)}\")\n",
    "print(f\"DE/current-to-best/1: {f(best_curr2best1)}\")\n",
    "print(f\"DE/rand/2: {f(best_rand2)}\")\n",
    "print(f\"DE/rand-to-best/1: {f(best_rand2best1)}\")"
   ]
  },
  {
   "cell_type": "code",
   "execution_count": null,
   "metadata": {},
   "outputs": [],
   "source": [
    "plot_function(last_rand1, f, plot_interval, \"DE/rand/1\")\n",
    "plot_function(last_best1, f, plot_interval, \"DE/best/1\")\n",
    "plot_function(last_curr2best1, f, plot_interval, \"DE/current-to-best/1\")\n",
    "plot_function(last_rand2, f, plot_interval, \"DE/rand/2\")\n",
    "plot_function(last_rand2best1, f, plot_interval, \"DE/rand-to-best/1\")"
   ]
  },
  {
   "cell_type": "code",
   "execution_count": null,
   "metadata": {},
   "outputs": [],
   "source": [
    "def plot_history(history, fit, tit):\n",
    "    best_hist = []\n",
    "    for pop in history:\n",
    "        best_hist.append(fit(min(pop, key=fit)))\n",
    "    plt.plot(best_hist)\n",
    "    plt.title(tit)\n",
    "    plt.ylabel('Fitness')\n",
    "    plt.xlabel('Generation')\n",
    "    plt.show()"
   ]
  },
  {
   "cell_type": "code",
   "execution_count": null,
   "metadata": {},
   "outputs": [],
   "source": [
    "plot_history(hist_rand1, f, \"DE/rand/1\")\n",
    "plot_history(hist_best1, f, \"DE/best/1\")\n",
    "plot_history(hist_curr2best1, f, \"DE/current-to-best/1\")\n",
    "plot_history(hist_rand2, f, \"DE/rand/2\")\n",
    "plot_history(hist_rand2best1, f, \"DE/rand-to-best/1\")"
   ]
  }
 ],
 "metadata": {
  "kernelspec": {
   "display_name": "optai",
   "language": "python",
   "name": "python3"
  },
  "language_info": {
   "codemirror_mode": {
    "name": "ipython",
    "version": 3
   },
   "file_extension": ".py",
   "mimetype": "text/x-python",
   "name": "python",
   "nbconvert_exporter": "python",
   "pygments_lexer": "ipython3",
   "version": "3.11.5"
  }
 },
 "nbformat": 4,
 "nbformat_minor": 2
}
