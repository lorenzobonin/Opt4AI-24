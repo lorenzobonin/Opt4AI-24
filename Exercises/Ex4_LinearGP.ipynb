{
 "cells": [
  {
   "cell_type": "markdown",
   "metadata": {},
   "source": [
    "# Linear Genetic Programming Based Approach for Robotic Controllers\n",
    "In this lab session, we will leverage Linear Genetic Programming (LGP) to automatically design the controller for a mobile robot. Starting from a certain initial position (S), the robot must be able to navigate inside a maze until it reaches its home base (G). The maze consists of empty cells in which the robot can navigate freely and wall cells where the robot cannot pass. A ```Maze``` object also contains information about the optimal path to the goal, which can be used to evaluate the robot's navigation. "
   ]
  },
  {
   "cell_type": "code",
   "execution_count": 2,
   "metadata": {},
   "outputs": [],
   "source": [
    "import enum\n",
    "import math\n",
    "import random\n",
    "import sys\n",
    "\n",
    "sys.path.insert(0, \"./..\")\n",
    "\n",
    "from utilities.robot_maze import Maze, Robot"
   ]
  },
  {
   "cell_type": "code",
   "execution_count": 3,
   "metadata": {},
   "outputs": [
    {
     "name": "stdout",
     "output_type": "stream",
     "text": [
      "            #     #     #  \n",
      "#     #  #  #     S     #  \n",
      "#        #  .  .  .     #  \n",
      ".  .  .  #  .  #  #     #  \n",
      ".  #  .  .  .  #  #        \n",
      ".  .  #  #  #  #  #  #  #  \n",
      "#  .     #  .  .  .  .  .  \n",
      "   .  #  #  .  #     #  .  \n",
      "#  .  .  .  .  #  #  #  G  \n",
      "\n"
     ]
    }
   ],
   "source": [
    "cellcodes = enum.Enum('cellcodes', 'EMPTY WALL START ROUTE GOAL')\n",
    "\n",
    "#build a maze\n",
    "maze_list = [\n",
    "        [cellcodes.EMPTY, cellcodes.EMPTY, cellcodes.EMPTY, cellcodes.EMPTY, cellcodes.WALL, cellcodes.EMPTY, cellcodes.WALL, cellcodes.EMPTY, cellcodes.WALL],\n",
    "        [cellcodes.WALL, cellcodes.EMPTY, cellcodes.WALL, cellcodes.WALL, cellcodes.WALL, cellcodes.EMPTY, cellcodes.START, cellcodes.EMPTY, cellcodes.WALL],\n",
    "        [cellcodes.WALL, cellcodes.EMPTY, cellcodes.EMPTY, cellcodes.WALL, cellcodes.ROUTE, cellcodes.ROUTE, cellcodes.ROUTE, cellcodes.EMPTY, cellcodes.WALL],\n",
    "        [cellcodes.ROUTE, cellcodes.ROUTE, cellcodes.ROUTE, cellcodes.WALL, cellcodes.ROUTE, cellcodes.WALL, cellcodes.WALL, cellcodes.EMPTY, cellcodes.WALL],\n",
    "        [cellcodes.ROUTE, cellcodes.WALL, cellcodes.ROUTE, cellcodes.ROUTE, cellcodes.ROUTE, cellcodes.WALL, cellcodes.WALL, cellcodes.EMPTY, cellcodes.EMPTY],\n",
    "        [cellcodes.ROUTE, cellcodes.ROUTE, cellcodes.WALL, cellcodes.WALL, cellcodes.WALL, cellcodes.WALL, cellcodes.WALL, cellcodes.WALL, cellcodes.WALL],\n",
    "        [cellcodes.WALL, cellcodes.ROUTE, cellcodes.EMPTY, cellcodes.WALL, cellcodes.ROUTE, cellcodes.ROUTE, cellcodes.ROUTE, cellcodes.ROUTE, cellcodes.ROUTE],\n",
    "        [cellcodes.EMPTY, cellcodes.ROUTE, cellcodes.WALL, cellcodes.WALL, cellcodes.ROUTE, cellcodes.WALL, cellcodes.EMPTY, cellcodes.WALL, cellcodes.ROUTE],\n",
    "        [cellcodes.WALL, cellcodes.ROUTE, cellcodes.ROUTE, cellcodes.ROUTE, cellcodes.ROUTE, cellcodes.WALL, cellcodes.WALL, cellcodes.WALL, cellcodes.GOAL],\n",
    "    ]\n",
    "\n",
    "maze = Maze(maze_list, cellcodes)\n",
    "\n",
    "print(maze)"
   ]
  },
  {
   "cell_type": "markdown",
   "metadata": {},
   "source": [
    "The robot can move in 3 possible ways:\n",
    "\n",
    "- Move forward;\n",
    "- Turn left;\n",
    "- Turn right;\n",
    "\n",
    "It can perceive the environment through 6 sensors that, when activated (value 1), indicate the presence of a wall in the corresponding position.\n",
    "\n",
    "![Robot's sensors](../img/sensors.png \"Robot's sensors\")\n",
    "\n",
    "Our controller must map the boolean values coming from the sensors into an action for the robot to take.\n",
    "\n",
    "Now it's time to code! Define a set of operators which can be included in the program that controls the robot actions."
   ]
  },
  {
   "cell_type": "code",
   "execution_count": 21,
   "metadata": {},
   "outputs": [],
   "source": [
    "movecodes = enum.Enum('movecodes', 'FORWARD LEFT RIGHT')\n",
    "opcodes = "
   ]
  },
  {
   "cell_type": "code",
   "execution_count": null,
   "metadata": {},
   "outputs": [],
   "source": [
    "# Generate a random program of length n\n",
    "# You can tune the probability to have an actual move at a certain position with move_p\n",
    "def random_program(n, move_p=0.3):\n",
    "  prg = []\n",
    "  moves = list(movecodes)\n",
    "  func = list(opcodes)\n",
    "  for _ in range(n):\n",
    "    if random.random() < move_p:\n",
    "      op = random.choice(moves)\n",
    "    else:\n",
    "      op = random.choice(func)\n",
    "    prg.append(op)\n",
    "  return prg"
   ]
  },
  {
   "cell_type": "code",
   "execution_count": 23,
   "metadata": {},
   "outputs": [],
   "source": [
    "rp = random_program(10)"
   ]
  },
  {
   "cell_type": "markdown",
   "metadata": {},
   "source": [
    "Complete the ```Robot``` class into the ```utilities/robot_maze.py``` file with a proper ```eval``` function."
   ]
  },
  {
   "cell_type": "code",
   "execution_count": 24,
   "metadata": {},
   "outputs": [],
   "source": [
    "r = Robot(rp, maze, maxMoves=70, movecodes=movecodes, opcodes=opcodes)"
   ]
  },
  {
   "cell_type": "markdown",
   "metadata": {},
   "source": [
    "Define a fitness function for our navigation task. Hint: you can exploit the ```getRoute``` method of the ```Robot``` class and the ```scoreRoute``` method of the ```Maze``` class to get an estimate of the \"correct steps\" taken by the robot."
   ]
  },
  {
   "cell_type": "code",
   "execution_count": 25,
   "metadata": {},
   "outputs": [],
   "source": [
    "def fit(prg):\n",
    "  # CODE HERE\n",
    "  pass"
   ]
  },
  {
   "cell_type": "markdown",
   "metadata": {},
   "source": [
    "As usual, the selection strategy we choose is tournament selection."
   ]
  },
  {
   "cell_type": "code",
   "execution_count": null,
   "metadata": {},
   "outputs": [],
   "source": [
    "def tournament_selection(fit, pop, t_size=4):\n",
    "  tournament = random.choices(pop, k=t_size)\n",
    "  return max(tournament, key=fit)"
   ]
  },
  {
   "cell_type": "markdown",
   "metadata": {},
   "source": [
    "Implement functions for crossover and mutation."
   ]
  },
  {
   "cell_type": "code",
   "execution_count": 27,
   "metadata": {},
   "outputs": [],
   "source": [
    "def crossover(x, y):\n",
    "  # CODE HERE\n",
    "  pass"
   ]
  },
  {
   "cell_type": "code",
   "execution_count": 28,
   "metadata": {},
   "outputs": [],
   "source": [
    "def mutation(x, p_m, move_p=0.3):\n",
    "  # CODE HERE\n",
    "  pass"
   ]
  },
  {
   "cell_type": "markdown",
   "metadata": {},
   "source": [
    "Finally, we can implement a ```linear_GP``` function, using the functions defined above."
   ]
  },
  {
   "cell_type": "code",
   "execution_count": null,
   "metadata": {},
   "outputs": [],
   "source": [
    "def linear_GP(fit, pop_size, n_iter = 50):\n",
    "  p_m = 0.1\n",
    "  pop = [random_program(20) for _ in range(0, pop_size)]\n",
    "  best = []\n",
    "  for i in range(0, n_iter):\n",
    "    selected = [tournament_selection(fit, pop) for _ in range(0, pop_size)]\n",
    "    pairs = zip(selected, selected[1:] + [selected[0]])\n",
    "    offsprings = []\n",
    "    for x, y in pairs:\n",
    "      of1, of2 = crossover(x, y)\n",
    "      offsprings.append(of1)\n",
    "      offsprings.append(of2)\n",
    "    pop = [mutation(x, p_m) for x in offsprings]\n",
    "    candidate_best = max(pop, key=fit)\n",
    "    if fit(candidate_best) > fit(best):\n",
    "      best = candidate_best\n",
    "    # print(f\"Best individual at generation {i}: {best}\")\n",
    "    print(f\"Best fitness at generation {i}: {fit(best)}\")\n",
    "  return best"
   ]
  },
  {
   "cell_type": "code",
   "execution_count": null,
   "metadata": {},
   "outputs": [],
   "source": [
    "random.seed(0)\n",
    "best = linear_GP(fit, 1000)"
   ]
  },
  {
   "cell_type": "code",
   "execution_count": null,
   "metadata": {},
   "outputs": [],
   "source": [
    "random.seed(0)\n",
    "best = linear_GP(fit, 1000)"
   ]
  },
  {
   "cell_type": "code",
   "execution_count": null,
   "metadata": {},
   "outputs": [],
   "source": [
    "best_robot = Robot(best, maze, 70, movecodes, opcodes)\n",
    "best_robot.run()\n",
    "print(best_robot.getRoute())"
   ]
  },
  {
   "cell_type": "markdown",
   "metadata": {},
   "source": [
    "Are the robot moves consistent with the expected behaviour? (The robot starts with a south heading, hence towards the bottom of the monitor)"
   ]
  },
  {
   "cell_type": "code",
   "execution_count": null,
   "metadata": {},
   "outputs": [],
   "source": [
    "print(maze)\n",
    "best_robot.moves"
   ]
  }
 ],
 "metadata": {
  "kernelspec": {
   "display_name": "optai",
   "language": "python",
   "name": "python3"
  },
  "language_info": {
   "codemirror_mode": {
    "name": "ipython",
    "version": 3
   },
   "file_extension": ".py",
   "mimetype": "text/x-python",
   "name": "python",
   "nbconvert_exporter": "python",
   "pygments_lexer": "ipython3",
   "version": "3.11.6"
  }
 },
 "nbformat": 4,
 "nbformat_minor": 2
}
